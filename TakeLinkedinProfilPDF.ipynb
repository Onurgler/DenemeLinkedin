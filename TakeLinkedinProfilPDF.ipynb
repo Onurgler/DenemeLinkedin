{
 "cells": [
  {
   "cell_type": "code",
   "execution_count": 8,
   "metadata": {},
   "outputs": [],
   "source": [
    "import time\n",
    "import os\n",
    "import requests\n",
    "import csv\n",
    "from selenium import webdriver\n",
    "from selenium.webdriver.common.keys import Keys\n",
    "from selenium.webdriver.common.action_chains import ActionChains\n",
    "from webdriver_manager.chrome import ChromeDriverManager\n",
    "from bs4 import BeautifulSoup\n",
    "\n"
   ]
  },
  {
   "cell_type": "code",
   "execution_count": 9,
   "metadata": {},
   "outputs": [
    {
     "name": "stderr",
     "output_type": "stream",
     "text": [
      "[WDM] - ====== WebDriver manager ======\n",
      "[WDM] - Current google-chrome version is 89.0.4389\n",
      "[WDM] - Get LATEST driver version for 89.0.4389\n"
     ]
    },
    {
     "name": "stdout",
     "output_type": "stream",
     "text": [
      "\n",
      "\n"
     ]
    },
    {
     "name": "stderr",
     "output_type": "stream",
     "text": [
      "[WDM] - Driver [C:\\Users\\Onur\\.wdm\\drivers\\chromedriver\\win32\\89.0.4389.23\\chromedriver.exe] found in cache\n"
     ]
    },
    {
     "name": "stdout",
     "output_type": "stream",
     "text": [
      "successfully logged in\n",
      "[]\n"
     ]
    },
    {
     "data": {
      "text/plain": [
       "'\\nhttps://www.linkedin.com/search/results/people/?keywords=java%20developer&origin=CLUSTER_EXPANSION\\nhttps://www.linkedin.com/search/results/people/?geoUrn=%5B%2290010418%22%5D&keywords=java%20developer&origin=FACETED_SEARCH\\nhttps://www.linkedin.com/search/results/people/?geoUrn=%5B%22100170895%22%5D&keywords=bilgisayar%20m%C3%BChendisli%C4%9Fi&origin=FACETED_SEARCH\\n'"
      ]
     },
     "execution_count": 9,
     "metadata": {},
     "output_type": "execute_result"
    }
   ],
   "source": [
    "login = \"bitirmeprojesi60@gmail.com\"\n",
    "password = \"bitirmeprojesi123456\"\n",
    "\n",
    "#start browser session \n",
    "#chromedriver =  \"C:\\\\Users\\celik\\\\anaconda3\\\\Lib\\site-packages\\\\selenium\\\\webdriver\\\\chrome\\\\chromedriver.exe\" #change this to your selenium driver\n",
    "#os.environ[\"webdriver.chrome.driver)\"] = chromedriver\n",
    "driver = webdriver.Chrome(ChromeDriverManager().install())\n",
    "\n",
    "#open linkedin in automated browser\n",
    "driver.get(\"https://www.linkedin.com/\")\n",
    "time.sleep(1)\n",
    "\n",
    "#logs you into Linkedin\n",
    "driver.find_element_by_id(\"session_key\").send_keys(str(login))\n",
    "password = driver.find_element_by_id(\"session_password\").send_keys(str(password))\n",
    "driver.find_elements_by_class_name(\"sign-in-form__submit-button\")[0].click()\n",
    "print(\"successfully logged in\")\n",
    "\n",
    "#navigates to your connections\n",
    "time.sleep(1)\n",
    "driver.get(\"https://www.linkedin.com/mynetwork/invite-connect/connections/\")\n",
    "time.sleep(1)\n",
    "\n",
    "#opens a new tab of your top contact\n",
    "ActionChains(driver).key_down(Keys.CONTROL).send_keys('t').perform()\n",
    "html=driver.page_source\n",
    "\n",
    "soup = BeautifulSoup(html,'html.parser')\n",
    "\n",
    "resumesLink = soup.find_all('a',class_='ember-view discover-entity-type-card__link')\n",
    "\n",
    "links=[]\n",
    "\n",
    "for link in resumesLink:   \n",
    "    try:\n",
    "        links.append(link[\"href\"])\n",
    "        #print(link[\"href\"])          \n",
    "    except:\n",
    "        pass\n",
    "print(links)\n",
    "#contact_page_open1 = driver.find_elements_by_xpath(\"//a[@href='/in/linwood-spindle-1563b931/']\")\n",
    "for person in links:\n",
    "    \n",
    "    contact_page_open = driver.find_elements_by_xpath(\"//a[@href='\"+person+\"']\")[0].click()\n",
    "\n",
    "    time.sleep(2)\n",
    "\n",
    "    #switch to new tab\n",
    "    driver.switch_to_window(driver.window_handles[1])\n",
    "    time.sleep(1)\n",
    "    # ActionChains(driver).key_up(Keys.CONTROL).perform()\n",
    "\n",
    "    #click the \"more\" button\n",
    "    driver.find_element_by_class_name(\"pv-s-profile-actions__overflow\").click()\n",
    "    time.sleep(5)\n",
    "\n",
    "    #saves profile to pdf                  \n",
    "    x=driver.find_elements_by_class_name(\"display-flex.t-normal.pv-s-profile-actions__label\")[1]\n",
    "    print(x)\n",
    "\n",
    "    driver.implicitly_wait(15)\n",
    "    driver.execute_script(\"arguments[0].click();\", x)\n",
    "\n",
    "    time.sleep(1)\n",
    "\n",
    "\n",
    "\"\"\"\n",
    "https://www.linkedin.com/search/results/people/?keywords=java%20developer&origin=CLUSTER_EXPANSION\n",
    "https://www.linkedin.com/search/results/people/?geoUrn=%5B%2290010418%22%5D&keywords=java%20developer&origin=FACETED_SEARCH\n",
    "https://www.linkedin.com/search/results/people/?geoUrn=%5B%22100170895%22%5D&keywords=bilgisayar%20m%C3%BChendisli%C4%9Fi&origin=FACETED_SEARCH\n",
    "\"\"\""
   ]
  },
  {
   "cell_type": "code",
   "execution_count": null,
   "metadata": {},
   "outputs": [],
   "source": []
  }
 ],
 "metadata": {
  "kernelspec": {
   "display_name": "Python 3",
   "language": "python",
   "name": "python3"
  },
  "language_info": {
   "codemirror_mode": {
    "name": "ipython",
    "version": 3
   },
   "file_extension": ".py",
   "mimetype": "text/x-python",
   "name": "python",
   "nbconvert_exporter": "python",
   "pygments_lexer": "ipython3",
   "version": "3.7.1"
  }
 },
 "nbformat": 4,
 "nbformat_minor": 4
}
